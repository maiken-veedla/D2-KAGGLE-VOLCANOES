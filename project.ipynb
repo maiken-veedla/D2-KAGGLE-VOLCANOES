{
 "cells": [
  {
   "cell_type": "code",
   "execution_count": 14,
   "metadata": {},
   "outputs": [],
   "source": [
    "import pandas as pd\n",
    "import numpy as np"
   ]
  },
  {
   "cell_type": "code",
   "execution_count": 15,
   "metadata": {
    "scrolled": false
   },
   "outputs": [
    {
     "name": "stdout",
     "output_type": "stream",
     "text": [
      "Wall time: 4min 58s\n"
     ]
    }
   ],
   "source": [
    "train = pd.read_csv(\"train.csv\")\n",
    "\n",
    "sensorDict1 = {'sensor1': [], \"sensor2\": [], \"sensor3\": [], \"sensor4\": [], \"sensor5\": [], \"sensor6\": [], \"sensor7\": [], \"sensor8\": [], \"sensor9\": [], \"sensor10\": []}\n",
    "\n",
    "for id in train.segment_id:\n",
    "    name = \"train/\" + str(id) + \".csv\"\n",
    "    volcanoData = pd.read_csv(name)\n",
    "    #print(volcanoData.head())\n",
    "    means = volcanoData.mean()\n",
    "    #print(means)\n",
    "    for i in range(10):\n",
    "        sensorDict1['sensor'+str(i+1)].append(means[i])\n",
    "#print(sensorDict1)\n"
   ]
  },
  {
   "cell_type": "code",
   "execution_count": 16,
   "metadata": {},
   "outputs": [
    {
     "name": "stdout",
     "output_type": "stream",
     "text": [
      "   segment_id   sensor1   sensor2   sensor3   sensor4   sensor5    sensor6  \\\n",
      "0  1136037770 -1.610323  4.613823  3.559724  2.019983       NaN  -9.718855   \n",
      "1  1969647810  1.426126  2.484442 -2.794270 -1.700572  0.732104  -8.975067   \n",
      "2  1895879680  2.504592  5.449709 -1.588540 -1.150831       NaN -13.328361   \n",
      "3  2068207140  2.165797 -0.373377 -2.698988 -1.316861  0.308795  -0.836886   \n",
      "4   192955606  0.073815       NaN  1.998883  0.245079 -0.441376   2.205647   \n",
      "\n",
      "    sensor7   sensor8   sensor9   sensor10  time_to_eruption  \n",
      "0  7.060032  1.268362  1.465042   2.599440          12262005  \n",
      "1  5.870219 -1.086832  3.179235  19.895518          32739612  \n",
      "2 -1.957634 -4.111615 -1.833336   0.968101          14965999  \n",
      "3 -0.843136 -0.175314 -3.510917   8.381444          26469720  \n",
      "4 -4.784354 -1.730321  1.622906  -3.740471          31072429  \n"
     ]
    }
   ],
   "source": [
    "for i in range(1, 11):\n",
    "    train.insert(i, \"sensor\"+str(i), sensorDict1[\"sensor\"+str(i)])\n",
    "\n",
    "print(train.head())\n"
   ]
  },
  {
   "cell_type": "code",
   "execution_count": 17,
   "metadata": {},
   "outputs": [
    {
     "name": "stdout",
     "output_type": "stream",
     "text": [
      "Wall time: 4min 43s\n"
     ]
    }
   ],
   "source": [
    "test = pd.read_csv(\"sample_submission.csv\")\n",
    "test = test.drop(columns=['time_to_eruption'])\n",
    "\n",
    "sensorDict2 = {'sensor1': [], \"sensor2\": [], \"sensor3\": [], \"sensor4\": [], \"sensor5\": [], \"sensor6\": [], \"sensor7\": [], \"sensor8\": [], \"sensor9\": [], \"sensor10\": []}\n",
    "\n",
    "for id in test.segment_id:\n",
    "    name = \"test/\" + str(id) + \".csv\"\n",
    "    volcanoData = pd.read_csv(name)\n",
    "    #print(volcanoData.head())\n",
    "    means = volcanoData.mean()\n",
    "    #print(means)\n",
    "    for i in range(10):\n",
    "        sensorDict2['sensor'+str(i+1)].append(means[i])\n",
    "#print(sensorDict2)"
   ]
  },
  {
   "cell_type": "code",
   "execution_count": 18,
   "metadata": {},
   "outputs": [
    {
     "name": "stdout",
     "output_type": "stream",
     "text": [
      "   segment_id   sensor1   sensor2   sensor3   sensor4   sensor5    sensor6  \\\n",
      "0  1000213997  4.462476       NaN  3.584690 -3.677255  0.932501  -0.119815   \n",
      "1   100023368  0.838103       NaN  1.009217 -0.757037  0.340894   1.764721   \n",
      "2  1000488999  0.794903 -4.740871  2.116098 -0.380610       NaN  12.569107   \n",
      "3  1001028887  1.953717       NaN  0.404360 -0.522891 -0.576881  -1.218796   \n",
      "4  1001857862 -3.984584 -3.306728  0.898585 -2.389910 -0.001767   2.661156   \n",
      "\n",
      "    sensor7   sensor8   sensor9  sensor10  \n",
      "0 -0.801103 -0.580557 -2.540874  0.000000  \n",
      "1 -8.099515  1.104198  2.450759 -5.790420  \n",
      "2  1.533874  2.943134 -0.932868  0.000000  \n",
      "3 -1.544341  1.841369  0.783520  0.000000  \n",
      "4  0.937434  1.873502  3.618723 -0.178297  \n"
     ]
    }
   ],
   "source": [
    "for i in range(1, 11):\n",
    "    test.insert(i, \"sensor\"+str(i), sensorDict2[\"sensor\"+str(i)])\n",
    "\n",
    "print(test.head())"
   ]
  },
  {
   "cell_type": "code",
   "execution_count": 26,
   "metadata": {},
   "outputs": [],
   "source": [
    "train = train.fillna(0)\n",
    "test = test.fillna(0)"
   ]
  },
  {
   "cell_type": "code",
   "execution_count": 27,
   "metadata": {},
   "outputs": [],
   "source": [
    "from sklearn.ensemble import RandomForestClassifier\n",
    "from sklearn.tree import DecisionTreeClassifier\n",
    "\n",
    "X_train = train[train.columns.difference(['segment_id', 'time_to_eruption'])]\n",
    "y_train = train['time_to_eruption']\n",
    "\n",
    "#sub1 model = RandomForestClassifier(n_estimators=100, max_depth=10, random_state=3).fit(X_train, y_train)\n",
    "#sub2 model = RandomForestClassifier(n_estimators=100, max_depth=20, random_state=3).fit(X_train, y_train)\n",
    "model = DecisionTreeClassifier(criterion='entropy', random_state=0).fit(X_train, y_train)\n",
    "\n",
    "X_test = test[test.columns.difference(['segment_id'])]\n",
    "\n",
    "predictions = model.predict(X_test)\n",
    "\n",
    "final = pd.DataFrame(predictions)\n",
    "\n",
    "final.insert(0,'segment_id',test.segment_id)\n",
    "\n",
    "final = final.rename(columns={'segment_id': 'segment_id', '0': 'time_to_eruption'})"
   ]
  },
  {
   "cell_type": "code",
   "execution_count": 28,
   "metadata": {},
   "outputs": [],
   "source": [
    "#final.to_csv('submission1.csv',encoding='utf-8', index=False)\n",
    "#final.to_csv('submission2.csv',encoding='utf-8', index=False)\n",
    "final.to_csv('submission3.csv',encoding='utf-8', index=False)"
   ]
  }
 ],
 "metadata": {
  "kernelspec": {
   "display_name": "Python 3",
   "language": "python",
   "name": "python3"
  },
  "language_info": {
   "codemirror_mode": {
    "name": "ipython",
    "version": 3
   },
   "file_extension": ".py",
   "mimetype": "text/x-python",
   "name": "python",
   "nbconvert_exporter": "python",
   "pygments_lexer": "ipython3",
   "version": "3.8.3"
  }
 },
 "nbformat": 4,
 "nbformat_minor": 4
}
