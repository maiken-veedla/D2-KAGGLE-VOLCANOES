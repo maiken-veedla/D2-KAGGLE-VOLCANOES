{
 "cells": [
  {
   "cell_type": "code",
   "execution_count": 29,
   "metadata": {
    "scrolled": false
   },
   "outputs": [],
   "source": [
    "import pandas as pd\n",
    "import numpy as np\n",
    "\n",
    "train = pd.read_csv(\"train.csv\")\n",
    "\n",
    "sensorDict = {'sensor1': [], \"sensor2\": [], \"sensor3\": [], \"sensor4\": [], \"sensor5\": [], \"sensor6\": [], \"sensor7\": [], \"sensor8\": [], \"sensor9\": [], \"sensor10\": []}\n",
    "\n",
    "for id in train.segment_id:\n",
    "    name = \"train/\" + str(id) + \".csv\"\n",
    "    volcanoData = pd.read_csv(name)\n",
    "    #print(volcanoData.head())\n",
    "    means = volcanoData.mean()\n",
    "    #print(means)\n",
    "    for i in range(10):\n",
    "        sensorDict['sensor'+str(i+1)].append(means[i])\n",
    "#print(sensorDict)\n"
   ]
  },
  {
   "cell_type": "code",
   "execution_count": 30,
   "metadata": {},
   "outputs": [
    {
     "name": "stdout",
     "output_type": "stream",
     "text": [
      "   segment_id   sensor1   sensor2   sensor3   sensor4   sensor5    sensor6  \\\n",
      "0  1136037770 -1.610323  4.613823  3.559724  2.019983       NaN  -9.718855   \n",
      "1  1969647810  1.426126  2.484442 -2.794270 -1.700572  0.732104  -8.975067   \n",
      "2  1895879680  2.504592  5.449709 -1.588540 -1.150831       NaN -13.328361   \n",
      "3  2068207140  2.165797 -0.373377 -2.698988 -1.316861  0.308795  -0.836886   \n",
      "4   192955606  0.073815       NaN  1.998883  0.245079 -0.441376   2.205647   \n",
      "\n",
      "    sensor7   sensor8   sensor9   sensor10  time_to_eruption  \n",
      "0  7.060032  1.268362  1.465042   2.599440          12262005  \n",
      "1  5.870219 -1.086832  3.179235  19.895518          32739612  \n",
      "2 -1.957634 -4.111615 -1.833336   0.968101          14965999  \n",
      "3 -0.843136 -0.175314 -3.510917   8.381444          26469720  \n",
      "4 -4.784354 -1.730321  1.622906  -3.740471          31072429  \n"
     ]
    }
   ],
   "source": [
    "for i in range(1, 11):\n",
    "    train.insert(i, \"sensor\"+str(i), sensorDict[\"sensor\"+str(i)])\n",
    "\n",
    "print(train.head())\n"
   ]
  }
 ],
 "metadata": {
  "kernelspec": {
   "display_name": "Python 3",
   "language": "python",
   "name": "python3"
  },
  "language_info": {
   "codemirror_mode": {
    "name": "ipython",
    "version": 3
   },
   "file_extension": ".py",
   "mimetype": "text/x-python",
   "name": "python",
   "nbconvert_exporter": "python",
   "pygments_lexer": "ipython3",
   "version": "3.8.3"
  }
 },
 "nbformat": 4,
 "nbformat_minor": 4
}
